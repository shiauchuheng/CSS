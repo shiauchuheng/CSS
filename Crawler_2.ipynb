{
 "cells": [
  {
   "cell_type": "code",
   "execution_count": 1,
   "metadata": {
    "scrolled": false
   },
   "outputs": [
    {
     "name": "stdout",
     "output_type": "stream",
     "text": [
      "William J. Harrod \n",
      "\tdr. william harrod is the research division director in the advanced scientific computing research program in the office of science at the department of energy (doe). the mission of the advanced scientific computing research (ascr) program is to discover, develop, and deploy computational and networking capabilities to analyze, model, simulate, and predict complex phenomena important to the department of energy (doe). before joining doe, dr. harrod was a program manager in the information processing technology office (ipto) in the defense advanced research projects agency (darpa). dr harrod received his phd in mathematics from the university of tennessee at knoxville. M\n",
      "************************\n",
      "Henry Markram  henry markram is a professor of neuroscience at the swiss federal institute for technology (epfl). he is the founder of the brain mind institute, founder and director of the blue brain project, founder and coordinator of the human brain project and co-foudner and president of frontiers. his work began in medicine and continued in neuroscience where he focused on mechanisms of learning and on the microstructure of the brain. he discovered 3 of the most fundamental laws governing plasticity of synaptic connections, has characterized the blueprints of the microcircuitry of the neocortex, co-developed a new theory of how the brain computes as a constantly changing liquid, and co-developed the intense world theory of autism. in the blue brain project, henry has begun the voyage to map out and to simulate the human brain, cell for cell, synapse for synapse, molecule for molecule. he has published over 100 papers and is one of the highest cited neuroscientists in the world in his age group. M\n",
      "************************\n",
      "Steve Scott \n",
      "\tdr. steve scott is chief technology officer of the tesla business unit at nvidia, where he is responsible for the evolution of nvidia’s gpu computing roadmap. prior to joining nvidia in august 2011, steve spent 19 years at cray, where he was cto since 2004. he was the chief architect of multiple systems at cray, architected the routers for the cray xt, xe and cascade systems, and led the cray cascade project funded by the darpa high productivity computing systems program. steve holds twenty-nine us patents, and has served on numerous advisory boards and program committees. he was the recipient of the 2005 acm maurice wilkes award and the 2005 ieee seymour cray computer engineering award. he received his phd in computer architecture in 1992 from the university of wisconsin at madison, where he was a wisconsin alumni research foundation and hertz foundation fellow. M\n",
      "************************\n",
      "Mitsuo Yokokawa \n",
      "\tmitsuo yokokawa is the director of the operations and computer technologies division, riken advanced institute for computational science at present. after he received his b.sci and m.eng from university of tsukuba, he joined the computer center at japan atomic energy research institute as a research scientist in 1984. he received d.eng. from tsukuba university in 1991. in 1997, he was engaged in the development project of the earth simulator and carried out the largest direct numerical simulation of turbulent flows on it, and for the results he received his first gordon bell prize in special accomplishment. in 2002, he joined the grid technology research center at national institute for advanced industrial science and technology. in 2006, he joined riken and was engaged in the next-generation supercomputer development project and was awarded the second gordon bell prize in peak performance at sc’11. M\n",
      "************************\n",
      "Ann Almgren \n",
      "\tann almgren is a staff scientist in the computational research division at lawrence berkeley national laboratory. she received her b.a. in physics from harvard university and her ph.d. in mechanical engineering from uc berkeley. she visited the institute for advanced study in princeton, nj prior to joining lawrence livermore national laboratory, then moved to lbnl in 1996. her primary research interest is in computational algorithms for solving numerical pde's for fluid dynamics in a variety of application areas. her current projects include the development and implementation of new multiphysics algorithms in high-resolution adaptive mesh codes that are designed for the latest multicore architectures. she is particularly interested in low mach number methods for atmospheric and astrophysical applications. F\n",
      "************************\n",
      "Arthur S. Bland  arthur “buddy” bland is the director for the oak ridge leadership computing facility’s jaguar and titan projects, which includes upgrading “jaguar”, the cray petaflop supercomputer, to “titan”, ornl’s heterogeneous cpu-gpu system. he previously served as director of operations for the national center for computational sciences (nccs) from 1996 until june 2006. buddy has worked in high-performance computing his entire career. he joined the staff at oak ridge national laboratory in 1984 as the system programmer/administrator for the cray x-mp system. he managed the supercomputing systems section, which later became the unix system section, until 1992, when he moved to the newly formed center for computational sciences as the computing resources manager. in that position he installed the kendall square ksr-1 and intel paragons and oversaw the development and installation of the file storage systems and networks to support the nccs. in 1996 buddy was appointed director of operations of the nccs. in that role he has managed the operation of the computer center through the life of a series of computers, including the ibm power3, ibm power4, compaq alphaserver sc, sgi altix, cray xd1, cray x1, cray x1e, and cray xt3, xt4, xt5, and xk6. he is the ornl representative on the high performance storage system executive committee. M\n",
      "************************\n",
      "François Bodin ) in 2002 while he was a professor at university of rennes i and since january 2008 has joined the company as cto. his contributions include new approaches for exploiting high performance processors in scientific computing and in embedded applications. prior to joining caps, françois held various research positions at the university of rennes i and at the inria research lab. M\n",
      "************************\n",
      "Kirk Cameron \n",
      "\tkirk w. cameron works to improve performance and power efficiency in high performance computing (hpc) systems and applications. he is a professor of computer science and faculty fellow at virginia tech. prof. cameron is an award-winning pioneer of green hpc. he co-founded the green500 list and spec power. his startup company miserware makes the world's most popular free energy management software ( M\n",
      "************************\n",
      "James Demmel \n",
      "\tjames demmel is the dr. richard carl dehmel distinguished professor of computer science and mathematics at the university of california at berkeley. his personal research interests are in numerical linear algebra, high performance computing, and communication avoiding algorithms in general. he is known for his work on the lapack and scalapack linear algebra libraries. he is a member of the national academy of sciences, national academy of engineering, a fellow of the acm, ieee and siam, and winner of the ieee computer society sidney fernbach award, the siam j. h. wilkinson prize in numerical analysis and scientific computing, and numerous best paper prizes, including being the only 3-time winner of the siam linear algebra (siag/la) prize. he was an invited speaker at the 2002 international congress of mathematicians and the 2003 international congress on industrial and applied mathematics. M\n",
      "************************\n",
      "Alan Gara \n",
      "\talan gara joined intel in june 2011 as intel fellow and chief architect for energy efficient computing. in april 2012 he became exascale chief architect. prior to joining intel he was the chief architect for the blue gene platform for three generations from 2000 until leaving ibm in 2011. he was an ibm fellow since 2006. the first ibm blue gene machine reached the #1 spot on the top500 list in nov 2004 remaining at the #1 spot until nov 2007. after the green 500 and the graph 500 benchmarks were defined, blue gene machines were listed as #1 in both initial lists. blue gene has remained #1 in the graph500 since the inception of the list and the latest version of blue gene is #1 on the green500 list as well as achieving again the #1 spot on the top500 list. ibm was awarded the nation medal of technology and innovation in 2008 from president obama for the blue gene machine. dr. gara has received 2 gordon bell prizes, once in 1998 and again in 2006 for work in the area of quantum chromodynamics. he received the seymour cray award in 2010 for his work in computer science. he has over 70 publications in computer science and physics and more than 130 us patents in the area of computer design and architecture. M\n",
      "************************\n",
      "Sylvie Joussaume  sylvie joussaume is a researcher at institut pierre simon laplace within cnrs (national center for scientific research). she is an expert in climate modelling and has been involved within the intergovernmental panel on climate change at different levels since the 3rd assessment report. she is chairing the scientific board of the european network for earth system modelling (enes) and coordinates the european infrastructure project is-enes, which integrates the european climate models in a common infrastructure dealing with model data sharing, model development and use of high-performance computing (2009-2016). she has been involved in high-performance computing for a long time within the climate modelling community. when director of earth sciences and astronomy institute at cnrs headquarters, she launched a scientific foresight committee on hpc and contributed to the european hpc scientific case in 2006 that paved the ground to the european prace computing facility. she is now chair of the orap scientific committee. F\n",
      "************************\n",
      "Chisachi Kato \n",
      "\tdr. kato is a professor in the institute of industrial science (iis), the university of tokyo. he also directs the center for research on innovative simulation software (ciss) in iis. he specializes in computational fluid dynamics and aeroacoustics and is also interested in applications of these numerical methods to various engineering problems, including automobiles, turbomachinery, and many others. he has been directing large-scale national projects aiming at r&d and diffusion of cutting edge, but still practical simulation software for more than ten years. M\n",
      "************************\n",
      "John Levesque  john levesque is the director of the cray’s supercomputer center of excellence based at oak ridge national laboratory. he is responsible for the group performing application porting and optimization for break-through science projects. levesque has been in high performance computing for over 40 years. levesque is also a member of cray’s chief technology office, heading the companies efforts in application performance. M\n",
      "************************\n",
      "Thomas Ludwig \n",
      "\tthomas ludwig received his ph.d. from the technische universität münchen (tum) in munich,germany, in 1992. in the 90s he had a research focus on tools for parallel systems, in particular for performance analysis and load balancing by process migration. he passed his habilitation examination at tum in 1998. in the late 90s he shifted his focus to parallel i/o. from 2001 to 2009 thomas ludwig was professor at the universität heidelberg. he conducted research on performance analysis of parallel i/o systems and on energy efficiency in hpc systems. since may 2009 he is a professor for computer science at the universität hamburg. at the same time he is director of the german climate computing centre (dkrz). together with his team he provides the shareholders of dkrz and the german climate researcher community with compute and storage resources and with support to conduct successful hpc-based earth system research. thomas ludwig published more than 80 papers on conferences and in journals. in 2010 he started the conference series energy-aware high performance computing (ena-hpc). M\n",
      "************************\n",
      "Linda Petzold \n",
      "\tdr. linda petzold is currently professor in the department of computer science (chair 2003-2007) and the department of mechanical engineering, and director of the computational science and engineering graduate emphasis at the university of california santa barbara. she received her ph.d. in computer science in 1978 from the university of illinois. dr. petzold is a member of the us national academy of engineering and a fellow of acm, asme, siam and aaas. she was named the ucsb faculty research lecturer for 2011, the highest honor that ucsb bestows to its faculty. her research focuses on modeling, simulation and analysis of multiscale systems in systems biology and engineering. F\n",
      "************************\n",
      "Bob Walkup \n",
      "\tbob walkup is a research staff member in the physical sciences department at ibm's thomas j. watson research center. he joined ibm in 1982 after completing a ph.d. in physics at mit. current activities include working with parallel applications on ibm's high-performance computing platforms, with a focus on blue gene systems, and developing tools to characterize application performance. M\n",
      "************************\n",
      "Michael Wolfe \n",
      "\tmichael wolfe has been a compiler engineer for over 35 years. he joined the portland group, inc. in 1996 where his responsibilities and interests include deep compiler analysis and optimizations ranging from improving the efficiency of fortran on parallel clusters to designing and implementing features for high level gpu programming. he was an associate professor at the oregon graduate institute from 1988 until 1996, and was a cofounder and lead compiler developer at kuck and associates, inc., prior to that. he has published one textbook, \"high performance compilers for parallel computing,\" and a number of technical papers, and holds one patent. M\n",
      "************************\n",
      "Zhiwei Xu \n",
      "\tzhiwei xu is a professor and cto of the institute of computing technology (ict) of the chinese academy of sciences. his prior industrial experience included chief engineer of dawning corp., a leading high-performance computer vendor in china. he currently leads “cloud-sea computing systems”, a 10-year research project of the chinese academy of sciences that aims at developing billion-thread computers with elastic processors. zhiwei xu holds a ph.d. degree from the university of southern california. M\n",
      "************************\n"
     ]
    }
   ],
   "source": [
    "import urllib.request\n",
    "from bs4 import BeautifulSoup\n",
    "response =urllib.request.urlopen('http://sc12.supercomputing.org/content/invited-speakers-biographies.html')\n",
    "html = response.read()\n",
    "soup = BeautifulSoup(html, 'html.parser')\n",
    "mainContent=soup.find(\"div\", {\"class\": \"field-item\"});\n",
    "for person in mainContent.find_all('p'):\n",
    "    name=person.find('strong')\n",
    "    if(name!=None):\n",
    "        fullName=name.next.split(',')[0]\n",
    "        bio=max(person.contents, key=len).lower()\n",
    "        menCount=bio.count(' he ')+bio.count(' his ')+bio.count(' him ')\n",
    "        womenCount=bio.count(' she ')+bio.count(' her ')+bio.count(' hers ')\n",
    "        if(menCount>womenCount):\n",
    "            label='M'\n",
    "        elif(womenCount>menCount):\n",
    "            label='F'\n",
    "        else:\n",
    "            continue\n",
    "        print(fullName+ ' ' + bio + ' '+label)\n",
    "        print('************************')"
   ]
  },
  {
   "cell_type": "code",
   "execution_count": null,
   "metadata": {},
   "outputs": [],
   "source": []
  },
  {
   "cell_type": "code",
   "execution_count": null,
   "metadata": {},
   "outputs": [],
   "source": []
  }
 ],
 "metadata": {
  "kernelspec": {
   "display_name": "Python 3",
   "language": "python",
   "name": "python3"
  },
  "language_info": {
   "codemirror_mode": {
    "name": "ipython",
    "version": 3
   },
   "file_extension": ".py",
   "mimetype": "text/x-python",
   "name": "python",
   "nbconvert_exporter": "python",
   "pygments_lexer": "ipython3",
   "version": "3.6.5"
  }
 },
 "nbformat": 4,
 "nbformat_minor": 2
}
