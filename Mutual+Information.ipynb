{
 "cells": [
  {
   "cell_type": "code",
   "execution_count": 73,
   "metadata": {},
   "outputs": [],
   "source": [
    "#Read in data\n",
    "import re\n",
    "import pandas as pd\n",
    "import collections as co\n",
    "import math\n",
    "import numpy as np\n",
    "from sklearn import metrics\n",
    "data = pd.read_csv(\"bios.csv\", usecols = [\"Bio\",\"Label\",\"Year\",\"Name\"])"
   ]
  },
  {
   "cell_type": "code",
   "execution_count": 74,
   "metadata": {},
   "outputs": [
    {
     "name": "stdout",
     "output_type": "stream",
     "text": [
      "5004\n",
      "21236\n",
      "4375\n"
     ]
    }
   ],
   "source": [
    "#Extract Female Bio, concatination and extract words\n",
    "femaleText=re.sub(r\"[^a-z ]+\",'',' '.join(data.query(\"Label=='F'\")['Bio']).lower())\n",
    "femaleWords=femaleText.split(' ')\n",
    "femaleWords=[x for x in femaleWords if len(x)>1]\n",
    "#Extract Male Bio, concatination and extract words\n",
    "maleText=re.sub(r\"[^a-z ]+\",'',' '.join(data.query(\"Label=='M'\")['Bio']).lower())\n",
    "maleWords=maleText.split(' ')\n",
    "maleWords=[x for x in maleWords if len(x)>1]\n",
    "#Create combination words\n",
    "fullWords=femaleWords+maleWords\n",
    "#Create list of unique words\n",
    "uniqueWords=list(set(fullWords))\n",
    "\n",
    "print(len(femaleWords))\n",
    "print(len(maleWords))\n",
    "print(len(uniqueWords))"
   ]
  },
  {
   "cell_type": "code",
   "execution_count": 75,
   "metadata": {},
   "outputs": [],
   "source": [
    "P_female=[]\n",
    "P_male=[]\n",
    "P_male_female=[]\n",
    "femaleLen=len(femaleWords)\n",
    "maleLen=len(maleWords)\n",
    "fullLen=len(fullWords)\n",
    "for word in uniqueWords:\n",
    "    P_female.append(femaleWords.count(word)/femaleLen)\n",
    "    P_male.append(maleWords.count(word)/maleLen)\n",
    "    P_male_female.append(fullWords.count(word)/fullLen)"
   ]
  },
  {
   "cell_type": "code",
   "execution_count": 77,
   "metadata": {},
   "outputs": [
    {
     "data": {
      "text/plain": [
       "0.49162541526041903"
      ]
     },
     "execution_count": 77,
     "metadata": {},
     "output_type": "execute_result"
    }
   ],
   "source": [
    "metrics.mutual_info_score(P_female,P_male)"
   ]
  },
  {
   "cell_type": "code",
   "execution_count": null,
   "metadata": {
    "collapsed": true
   },
   "outputs": [],
   "source": []
  }
 ],
 "metadata": {
  "kernelspec": {
   "display_name": "Python 3",
   "language": "python",
   "name": "python3"
  },
  "language_info": {
   "codemirror_mode": {
    "name": "ipython",
    "version": 3
   },
   "file_extension": ".py",
   "mimetype": "text/x-python",
   "name": "python",
   "nbconvert_exporter": "python",
   "pygments_lexer": "ipython3",
   "version": "3.6.1"
  }
 },
 "nbformat": 4,
 "nbformat_minor": 2
}
