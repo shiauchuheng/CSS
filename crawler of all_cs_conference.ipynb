{
 "cells": [
  {
   "cell_type": "code",
   "execution_count": 15,
   "metadata": {},
   "outputs": [
    {
     "name": "stdout",
     "output_type": "stream",
     "text": [
      "['FCRC', 'FCT', 'ESA', 'GD', 'LICS', 'CIAA', 'CC', 'ASE', 'CAV', 'DEBS', 'HiPC', 'ATC', 'ASPLOS', 'ISCAS', 'ASP-DAC', 'GlobeCom', 'EWSN', 'DSN', 'ACNS', 'CIDR', 'AAAI', 'AE', 'IJCAR', 'BMVC', 'ACL', 'Eurographics', 'VIS', 'ASSETS', 'CIBB', 'SIGCSE']\n",
      "['http://www.fcrc.org.au/member-news/2017-conference-highlights', 'https://edo91.zendesk.com/hc/en-us/article_attachments/208762123/EO___Pollwatching_-_6.pptx', 'https://fcrc.acm.org/', 'http://fct2017.labri.fr/', 'https://www.finanzen.net/anleihen/a1v2n3-sapphireone-mortgages-fct-2016-2-anleihe', 'https://sites.google.com/site/fct2015gdansk/', 'https://www.speedrun.com/esa2017/forum', 'http://conferences.au.dk/algo16/esa/', 'https://www.esa-survey.de/', 'https://gd2017.ccis.northeastern.edu/', 'http://algo.math.ntua.gr/~gd2016/', 'https://www.galco.com/buy/Cutler-Hammer-Div-of-Eaton-Corp/GD2015', 'http://lics.siglog.org/lics17/', 'http://lics.siglog.org/lics16/', 'https://lics.siglog.org/lics15/', 'http://ciaa17.univ-mlv.fr/', 'http://toc.yonsei.ac.kr/ciaa2016/', 'http://ciaa2015.cs.umu.se/', 'http://www.computerbild.de/artikel/cb-Tests-Software-Photoshop-CC-2017-16718271.html', 'https://www.autozeitung.de/vw-passat-cc-2016-rendering-viertueriges-coupe-mqb-design-80808.html', 'https://prodesigntools.com/adobe-cc-2015-direct-download-links.html', 'http://ase2017.org/', 'http://ase2016.org/', 'http://ase2015.unl.edu/', 'http://cavconference.org/2017/', 'http://i-cav.org/2016/', 'http://cav2015.epfl.ch/', 'https://conf.researchr.org/home/debs-2017', 'https://www.ics.uci.edu/~debs2016/call-grand-challenge.html', 'http://www.debs2015.org/', 'http://hipc.org/', 'http://www.hipc.org/hipc2016/', 'http://www.hipc.org/hipc2015/', 'https://www.usenix.org/conference/atc17', 'https://www.usenix.org/conference/atc16', 'https://www.usenix.org/conference/atc15', 'http://novel.ict.ac.cn/ASPLOS2017/', 'https://www.ece.cmu.edu/calcm/asplos2016/', 'http://asplos15.bilkent.edu.tr/', 'http://iscas2017.org/', 'http://iscas2016.org/', 'http://www.iscas2015.org/', 'http://www.aspdac.com/aspdac2017/', 'http://www.aspdac.com/aspdac2016/', 'http://www.aspdac.com/aspdac2015/', 'http://globecom2017.ieee-globecom.org/', 'http://globecom2016.ieee-globecom.org/', 'http://globecom2015.ieee-globecom.org/', 'http://www.ewsn2017.org/', 'http://ewsn2016.tugraz.at/', 'https://www.cister.isep.ipp.pt/ewsn2015/', 'http://sn.committees.comsoc.org/call-for-papers/dsn-2017/', 'https://dsn-2016.sciencesconf.org/', 'http://2015.dsn.org/', 'https://cy2sec.comm.eng.osaka-u.ac.jp/acns2017/index.html', 'https://www.springer.com/de/book/9783319395548', 'http://acns2015.cs.columbia.edu/', 'http://cidrdb.org/cidr2017/', 'http://cidrdb.org/cidr2017/', 'http://cidrdb.org/cidr2015/', 'https://www.aaai.org/Conferences/AAAI/aaai17.php', 'https://www.aaai.org/Conferences/AAAI/aaai16.php', 'http://www.aaai.org/Conferences/AAAI/aaai15.php', 'https://www.aquaeas.eu/36-news/news/363-ae2017', 'http://www.cister.isep.ipp.pt/ae2016/', 'https://www.wur.nl/en/activity/Aquaculture-Europe-2015-AE2015.htm', 'http://www.ijcar.org/', 'https://www.uc.pt/en/congressos/ijcar2016', 'http://scholar.google.co.in/citations%3Fuser%3DarG_aYYAAAAJ%26hl%3Den', 'https://bmvc2017.london/', 'http://bmvc2016.cs.york.ac.uk/', 'http://bmvc2015.swan.ac.uk/', 'http://acl2017.org/', 'https://www.aclweb.org/portal/content/acl-2016-annual-meeting-association-computational-linguistics-0', 'http://acl2015.org/', 'http://eurographics2017.fr/', 'https://eurographics2016.pt/', 'http://www.eurographics2015.ch/', 'http://ieeevis.org/', 'http://ieeevis.org/year/2016/info/vis-welcome/welcome', 'http://ieeevis.org/year/2015/info/vis-welcome/welcome', 'https://assets17.sigaccess.org/', 'https://assets16.sigaccess.org/', 'http://assets15.sigaccess.org/', 'http://cibb2017.unica.it/', 'http://www.cs.stir.ac.uk/events/cibb2016/', 'http://bioinfo.na.iac.cnr.it/cibb2015/', 'https://sigcse2017.sigcse.org/', 'http://sigcse2016.sigcse.org/', 'http://sigcse2015.sigcse.org/']\n"
     ]
    }
   ],
   "source": [
    "#!/usr/bin/env python3\n",
    "# -*- coding: utf-8 -*-\n",
    "\n",
    "from six.moves.urllib.request import urlopen\n",
    "from bs4 import BeautifulSoup\n",
    "import urllib.request\n",
    "import re\n",
    "import unicodedata\n",
    "#1.from the seed cs conference get all conference name\n",
    "#2.form query for each conference in each year\n",
    "#3.use google to retrive, get the first link\n",
    "#4.accoding the link to get the corresponding conference invited speakers\n",
    "#The problem is each webpage which has invited speakers without universial DOM structure, we need to research on every \n",
    "# webpage before parse the content.\n",
    "\n",
    "#get the seed list\n",
    "url_seed=\"https://en.wikipedia.org/wiki/List_of_computer_science_conferences\"\n",
    "response=urlopen(url_seed)\n",
    "soup=BeautifulSoup(response.read(),'html.parser',from_encoding='utf-8')\n",
    "record_start=soup('ul')[9]\n",
    "b=record_start.findChild('li').getText().split()[0]\n",
    "c=unicodedata.normalize('NFKD', b).encode('ascii','ignore')\n",
    "c=c.decode(\"utf-8\")\n",
    "query_param_list=[]\n",
    "query_param_list.append(c)\n",
    "\n",
    "num_of_conference=29\n",
    "for i in range(num_of_conference):\n",
    "    record_start=record_start.findNextSibling('ul')\n",
    "    b=record_start.findChild('li').getText().split()[0]\n",
    "    c=unicodedata.normalize('NFKD', b).encode('ascii','ignore')\n",
    "    c=c.decode(\"utf-8\")\n",
    "    query_param_list.append(c)\n",
    "    \n",
    "print(query_param_list)\n",
    "\n",
    "#Forming query\n",
    "\n",
    "year=['2017','2016','2015']\n",
    "all_links=[]\n",
    "for i in range(len(query_param_list)):\n",
    "    for j in range(len(year)):\n",
    "        c=query_param_list[i]+year[j]\n",
    "        query=c\n",
    "        query=query.strip().split()\n",
    "        query=\"+\".join(query)\n",
    "        html = \"https://www.google.co.in/search?site=&source=hp&q=\"+query+\"&gws_rd=ssl\"\n",
    "        req = urllib.request.Request(html, headers={'User-Agent': 'Mozilla/5.0'})\n",
    "        soup = BeautifulSoup(urlopen(req).read(),\"html.parser\")\n",
    "        #Regex\n",
    "        reg=re.compile(\".*&sa=\")\n",
    "        links = []\n",
    "        #Parsing web urls\n",
    "        for item in soup.find_all('h3', attrs={'class' : 'r'}):\n",
    "            line = (reg.match(item.a['href'][7:]).group())\n",
    "            links.append(line[:-4])\n",
    "        all_links.append(links[0])\n",
    "\n",
    "#printing links scrapped as a list\n",
    "print(all_links)\n",
    "\n",
    "\n",
    "\n",
    "\n"
   ]
  },
  {
   "cell_type": "code",
   "execution_count": 16,
   "metadata": {},
   "outputs": [
    {
     "name": "stdout",
     "output_type": "stream",
     "text": [
      "['http://fct2017.labri.fr/', 'http://unitedscientificgroup.com/conferences/food-chemistry-and-technology/', 'http://www.frankfurt-city-triathlon.de/', 'https://www.boerse-online.de/anleihen/bpce_home_loans_fct_2017-5eo-notes_201754_cla-anleihe-2054-fr0013256963', 'https://www.eatcs.org/index.php/component/content/article/1-news/2468--fct-2017-second-call-for-papers-', 'https://www.springer.com/de/book/9783662557501', 'https://www.finanzen.net/anleihen/a1v31x-bpce-home-loans-fct-2017-5-anleihe', 'https://www.finanzen.net/anleihen/a19tjm-sapphireone-mortgages-fct-2017-1-anleihe', 'http://www.chemistry.or.jp/en/events/calendar/2017/11/iii-international-conference-on-food-chemistry-and-technology-fct-2017.html', 'http://www.rsc.org/events/detail/25135/iii-international-conference-on-food-chemistry-and-technology-fct-2017']\n",
      "\n",
      "Thomas Colcombet\n",
      " is currently a full time senior researcher at the CNRS, working in the Institut de Recherche en Informatique Fondamentale, Paris. After studying at the Ecole Normale Supérieure de Lyon, he received a PhD degree from the university of Rennes.  His research is in automata theory in a broad sense, and in particular its connections to algebra, category theory, topology, model theory and algorithmic logic as well as game theory.\n",
      "                        \n"
     ]
    }
   ],
   "source": [
    "#example for just one webpage\n",
    "query=query_param_list[1]+year[0]\n",
    "query=query.strip().split()\n",
    "query=\"+\".join(query)\n",
    "html = \"https://www.google.co.in/search?site=&source=hp&q=\"+query+\"&gws_rd=ssl\"\n",
    "req = urllib.request.Request(html, headers={'User-Agent': 'Mozilla/5.0'})\n",
    "soup = BeautifulSoup(urlopen(req).read(),\"html.parser\")\n",
    "#Regex\n",
    "reg=re.compile(\".*&sa=\")\n",
    "links = []\n",
    "#Parsing web urls\n",
    "for item in soup.find_all('h3', attrs={'class' : 'r'}):\n",
    "    line = (reg.match(item.a['href'][7:]).group())\n",
    "    links.append(line[:-4])\n",
    "print(links)\n",
    "\n",
    "#get the content\n",
    "url=\"http://fct2017.labri.fr/\"\n",
    "response=urlopen(url)\n",
    "soup=BeautifulSoup(response.read(),'html.parser',from_encoding='utf-8')\n",
    "a_tag=soup.find_all('a')\n",
    "word = \"invited speakers\"\n",
    "for node in a_tag:\n",
    "    text_tmp=node.get_text().lower()\n",
    "    \n",
    "    if word not in text_tmp:\n",
    "        continue\n",
    "    invited_speaker_link=node['href']\n",
    "\n",
    "new_url=url+invited_speaker_link\n",
    "response=urlopen(new_url)\n",
    "soup=BeautifulSoup(response.read(),'html.parser',from_encoding='utf-8')\n",
    "\n",
    "div_tag=soup.find('div',id=\"content\")\n",
    "span_tag=div_tag.find('span').get_text()\n",
    "\n",
    "print(span_tag)"
   ]
  },
  {
   "cell_type": "code",
   "execution_count": null,
   "metadata": {},
   "outputs": [],
   "source": []
  }
 ],
 "metadata": {
  "kernelspec": {
   "display_name": "Python 3",
   "language": "python",
   "name": "python3"
  },
  "language_info": {
   "codemirror_mode": {
    "name": "ipython",
    "version": 3
   },
   "file_extension": ".py",
   "mimetype": "text/x-python",
   "name": "python",
   "nbconvert_exporter": "python",
   "pygments_lexer": "ipython3",
   "version": "3.6.5"
  }
 },
 "nbformat": 4,
 "nbformat_minor": 2
}
